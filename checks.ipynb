{
 "cells": [
  {
   "cell_type": "code",
   "execution_count": 42,
   "metadata": {},
   "outputs": [],
   "source": [
    "import pandas as pd\n",
    "import random"
   ]
  },
  {
   "cell_type": "code",
   "execution_count": 43,
   "metadata": {},
   "outputs": [],
   "source": [
    "import os"
   ]
  },
  {
   "cell_type": "code",
   "execution_count": 44,
   "metadata": {},
   "outputs": [],
   "source": [
    "cwd = os.getcwd()\n",
    "df = pd.read_excel(os.path.join(cwd, \"soal.xlsx\"))"
   ]
  },
  {
   "cell_type": "code",
   "execution_count": 45,
   "metadata": {},
   "outputs": [
    {
     "name": "stdout",
     "output_type": "stream",
     "text": [
      "24\n",
      "[0, 1, 2, 3, 4, 5, 6, 7, 8, 9, 10, 11, 12, 13, 14, 15, 16, 17, 18, 19, 20, 21, 22, 23]\n",
      "14\n",
      "0\n",
      "7\n",
      "8\n",
      "11\n",
      "9\n",
      "4\n",
      "18\n",
      "6\n",
      "1\n",
      "21\n",
      "22\n",
      "17\n",
      "15\n",
      "10\n",
      "5\n",
      "13\n",
      "3\n",
      "12\n",
      "2\n",
      "23\n",
      "20\n",
      "16\n",
      "19\n"
     ]
    }
   ],
   "source": [
    "tempDf= df[df['Type'] == 'Pemrograman']\n",
    "print(len(tempDf))\n",
    "choices = [i for i in range(len(tempDf))]\n",
    "print(choices)\n",
    "\n",
    "while(choices!= []):\n",
    "    rand= random.choice(choices)\n",
    "    print(rand)\n",
    "    choices.remove(rand)\n",
    "\n"
   ]
  },
  {
   "cell_type": "code",
   "execution_count": 46,
   "metadata": {},
   "outputs": [],
   "source": [
    "def randSoalGenerator(type : str) -> list:\n",
    "        \"\"\"\n",
    "        Generating random soal based on their type\n",
    "        \"\"\"\n",
    "        # random.seed(0)\n",
    "        soalGenerated = []\n",
    "        tempDf = df[df[\"Type\"] == type]\n",
    "        choices = [i for i in range(len(tempDf))]\n",
    "        Soalsize = 20 if type == \"Matematika\" else 10\n",
    "        while(Soalsize > 0):\n",
    "            # print(\"Choices\", choices)\n",
    "            rand = random.choice(choices)\n",
    "            choices.remove(rand)\n",
    "            # st.write(rand)\n",
    "            #Check if the soal have <kode>\n",
    "            soalStr = tempDf.iloc[rand][\"Soal\"]\n",
    "            jwbStr = tempDf.iloc[rand][\"Jawaban\"]\n",
    "            if soalStr.find(\"<kode>\") != -1:\n",
    "                numCode = int(soalStr.split(\"<kode>\")[0])\n",
    "                #Make sure the answer is the kode too\n",
    "                try:\n",
    "                    jwbStr = int(jwbStr)\n",
    "                except:\n",
    "                    continue\n",
    "                if numCode == int(jwbStr):\n",
    "                    #Not a soal, this is just a description for soal, find the other same code\n",
    "                    # choices.pop(choices.index(rand))\n",
    "                    soalGenerated.append(rand)\n",
    "                    print(f\"Numcode {numCode} added\")\n",
    "                    #delete the current soal\n",
    "                    \n",
    "                    # Soalsize+=1\n",
    "                    while True:\n",
    "                        try:\n",
    "                            rand += 1\n",
    "                            tempSoal = tempDf.iloc[rand][\"Soal\"]\n",
    "                            nextCode = int(tempSoal.split(\"<kode>\")[0])\n",
    "                            if nextCode != int(numCode):\n",
    "                                break\n",
    "                            else:\n",
    "                                print(numCode, nextCode, \"Same code found on index\", rand)\n",
    "                                # print(\"Same code found\")\n",
    "                            #delete the soal\n",
    "                            # choices.pop(choices.index(rand))\n",
    "                            soalGenerated.append(rand)\n",
    "                            \n",
    "                            Soalsize-=1\n",
    "                            if(Soalsize < 0):\n",
    "                                break\n",
    "                        except:\n",
    "                            break\n",
    "            else:\n",
    "                # choices.pop(choices.index(rand))\n",
    "                soalGenerated.append(rand)\n",
    "                Soalsize -= 1\n",
    "        # tempDf = tempDf.iloc[soalGenerated]\n",
    "        return tempDf,soalGenerated  "
   ]
  },
  {
   "cell_type": "code",
   "execution_count": 47,
   "metadata": {},
   "outputs": [
    {
     "name": "stdout",
     "output_type": "stream",
     "text": [
      "Numcode 2 added\n",
      "2 2 Same code found on index 3\n",
      "Numcode 11 added\n",
      "11 11 Same code found on index 23\n",
      "Numcode 5 added\n",
      "5 5 Same code found on index 9\n",
      "Numcode 7 added\n",
      "7 7 Same code found on index 13\n",
      "7 7 Same code found on index 14\n",
      "Numcode 9 added\n",
      "9 9 Same code found on index 18\n",
      "9 9 Same code found on index 19\n",
      "Numcode 3 added\n",
      "3 3 Same code found on index 5\n",
      "Numcode 1 added\n",
      "1 1 Same code found on index 1\n",
      "Numcode 6 added\n",
      "6 6 Same code found on index 11\n",
      "2<kode>var kanc 2\n",
      "2<kode>Apakah k 10,15,25,30,40\n",
      "11<kode>functio 11\n",
      "11<kode>Apa yan 3620,3760,3824,3927,4126\n",
      "5<kode>var merp 5\n",
      "5<kode>Apakah k 100,2018,2020,4040,4038\n",
      "7<kode>a := 13; 7\n",
      "7<kode>Dari pil 68,69,70,71,72\n",
      "7<kode>Berapaka 134,133,119,118,117\n",
      "9<kode>{x dan y 9\n",
      "9<kode>Nilai x  3, False, 7, 4, xy\n",
      "9<kode>Nilai pa x=3 y=4, x=-1 y=-1, x=4 y=3, x=3 y=-1, x=7 y=3\n",
      "3<kode>var i, a 3\n",
      "3<kode>Apakah k 26,27,28,3,80\n",
      "1<kode>var data 1\n",
      "1<kode>Apakah k 1,2,3,4,5\n",
      "6<kode>function 6\n",
      "6<kode>Berapaka 8,9,10,11,12\n"
     ]
    }
   ],
   "source": [
    "df,pemrograman = randSoalGenerator(\"Pemrograman\")\n",
    "# pemrograman.sort()\n",
    "# print(pemrograman)\n",
    "\n",
    "df = df.iloc[pemrograman]\n",
    "for i in df.iterrows():\n",
    "    print(i[1][\"Soal\"][:15], i[1].Jawaban)\n",
    "    # print(i[1][\"Jawaban\"])"
   ]
  },
  {
   "cell_type": "code",
   "execution_count": 48,
   "metadata": {},
   "outputs": [
    {
     "ename": "ValueError",
     "evalue": "invalid literal for int() with base 10: '1,2,3'",
     "output_type": "error",
     "traceback": [
      "\u001b[1;31m---------------------------------------------------------------------------\u001b[0m",
      "\u001b[1;31mValueError\u001b[0m                                Traceback (most recent call last)",
      "Cell \u001b[1;32mIn[48], line 2\u001b[0m\n\u001b[0;32m      1\u001b[0m test \u001b[38;5;241m=\u001b[39m \u001b[38;5;124m'\u001b[39m\u001b[38;5;124m1,2,3\u001b[39m\u001b[38;5;124m'\u001b[39m\n\u001b[1;32m----> 2\u001b[0m \u001b[38;5;28mprint\u001b[39m(\u001b[38;5;28;43mint\u001b[39;49m\u001b[43m(\u001b[49m\u001b[43mtest\u001b[49m\u001b[43m)\u001b[49m)\n",
      "\u001b[1;31mValueError\u001b[0m: invalid literal for int() with base 10: '1,2,3'"
     ]
    }
   ],
   "source": [
    "test = '1,2,3'\n",
    "print(int(test))"
   ]
  }
 ],
 "metadata": {
  "kernelspec": {
   "display_name": ".venv",
   "language": "python",
   "name": "python3"
  },
  "language_info": {
   "codemirror_mode": {
    "name": "ipython",
    "version": 3
   },
   "file_extension": ".py",
   "mimetype": "text/x-python",
   "name": "python",
   "nbconvert_exporter": "python",
   "pygments_lexer": "ipython3",
   "version": "3.10.7"
  }
 },
 "nbformat": 4,
 "nbformat_minor": 2
}
